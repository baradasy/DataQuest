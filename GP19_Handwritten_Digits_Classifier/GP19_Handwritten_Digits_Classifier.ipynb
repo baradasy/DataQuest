{
 "cells": [
  {
   "cell_type": "markdown",
   "metadata": {},
   "source": [
    "# Guided Project #19\n",
    "# Building A Handwritten Digits Classifier"
   ]
  },
  {
   "cell_type": "markdown",
   "metadata": {},
   "source": [
    "In this Guided Project, we'll:\n",
    "\n",
    "- explore why image classification is a hard task\n",
    "- observe the limitations of traditional machine learning models for image classification\n",
    "- train, test, and improve a few different deep neural networks for image classification\n",
    "\n",
    "As we mentioned in the first lesson in this course, deep neural networks have been used to reach state-of-the-art performance on image classification tasks in the last decade. For some image classification tasks, deep neural networks actually perform as well as or slightly better than the human benchmark. You can read about the history of deep neural networks [here](https://arxiv.org/pdf/1803.01164.pdf).\n",
    "\n",
    "To end this course, we'll build models that can classify handwritten digits. Before the year 2000, institutions like the United States Post Office used handwriting recognition software to read addresses, zip codes, and more. One of their approaches, which consists of pre-processing handwritten images then feeding to a neural network model is detailed in [this paper](http://citeseerx.ist.psu.edu/viewdoc/download?doi=10.1.1.852.5499&rep=rep1&type=pdf)."
   ]
  },
  {
   "cell_type": "markdown",
   "metadata": {},
   "source": [
    "### 1. Working with image data\n",
    "Scikit-learn contains a number of datasets pre-loaded with the library, within the namespace of sklearn.datasets. The load_digits() function returns a copy of the hand-written digits dataset from UCI.\n",
    "\n",
    "Because dataframes are a tabular representation of data, each image is represented as a row of pixel values. To visualize an image from the dataframe, we need to reshape the image back to its original dimensions (8 x 8 pixels). To visualize the image, we need to reshape these pixel values back into the 8 by 8 and plot them on a coordinate grid.\n",
    "\n",
    "To reshape the image, we need to convert a training example to a numpy array and pass the result into that into the numpy.reshape() function:"
   ]
  },
  {
   "cell_type": "code",
   "execution_count": 230,
   "metadata": {},
   "outputs": [
    {
     "data": {
      "image/png": "[encoded data removed]",
      "text/plain": [
       "<Figure size 864x432 with 8 Axes>"
      ]
     },
     "metadata": {},
     "output_type": "display_data"
    }
   ],
   "source": [
    "import pandas as pd\n",
    "from sklearn.datasets import load_digits\n",
    "from matplotlib import pyplot as plt\n",
    "\n",
    "digits = load_digits()\n",
    "data = pd.DataFrame(digits['data'])\n",
    "target = pd.Series(digits['target'])\n",
    "\n",
    "fig, axs = plt.subplots(2, 4, figsize=(12,6))\n",
    "image_rows = [[0, 100, 200, 300],\n",
    "              [1000, 1100, 1200, 1300]]\n",
    "\n",
    "for r in range(2):\n",
    "    for c in range(4):\n",
    "        ax = axs[r][c]\n",
    "        im = image_rows[r][c]\n",
    "        im_data = data.iloc[im].values.reshape(8,8)\n",
    "        ax.set_xticks([])\n",
    "        ax.set_yticks([])\n",
    "        ax.imshow(im_data, cmap='gray_r')\n",
    "        "
   ]
  },
  {
   "cell_type": "markdown",
   "metadata": {},
   "source": [
    "### 2. Predicting with K-Nearest Neighbor model\n",
    "\n",
    "While linear and logistic regression models make assumptions about the linearity between the features and the output labels, the k-nearest neighbors algorithm make no such assumption. This allows them to capture nonlinearity in the data. K-nearest neighbors don't have a specific model representation (hence why it's referred to as an algorithm and not a model).\n",
    "\n",
    "The k-nearest neighbors algorithm compares every unseen observation in the test set to all (or many, as some implementations constrain the search space) training observations to look for similar (or the \"nearest\") observations. Then, the algorithm finds the label with the most nearby observations and assigns that as the prediction for the unseen observation.\n",
    "\n",
    "We can use the [KNeighborsClassifier](https://scikit-learn.org/stable/modules/generated/sklearn.neighbors.KNeighborsClassifier.html) package to train and test k-nearest neighbors models."
   ]
  },
  {
   "cell_type": "code",
   "execution_count": 231,
   "metadata": {},
   "outputs": [],
   "source": [
    "from sklearn.neighbors import KNeighborsClassifier\n",
    "from sklearn.metrics import accuracy_score\n",
    "import numpy as np\n",
    "\n",
    "def train(data, target, k):\n",
    "    knn = KNeighborsClassifier(n_neighbors=k)\n",
    "    knn.fit(data, target)\n",
    "    return knn\n",
    "\n",
    "def test(model, test_data, target):\n",
    "    predictions = model.predict(test_data)\n",
    "    accuracy = accuracy_score(target, predictions)\n",
    "    return accuracy\n",
    "    \n",
    "def cross_validate(data, taget, k):\n",
    "    fold_size = len(data)//4\n",
    "    d1 = data.iloc[:fold_size,:]\n",
    "    d2 = data.iloc[fold_size:2*fold_size,:]\n",
    "    d3 = data.iloc[2*fold_size:3*fold_size,:]\n",
    "    d4 = data.iloc[3*fold_size:,:]\n",
    "\n",
    "    accuracies = []\n",
    "    rmses = []\n",
    "    \n",
    "    for d in [d1,d2,d3,d4]:\n",
    "        test_data = d\n",
    "        test_labels = target[target.index.isin(test_data.index)]\n",
    "        train_data = data[~data.index.isin(test_data.index)]\n",
    "        train_labels = target[~target.index.isin(test_data.index)]\n",
    "        \n",
    "        model = train(train_data, train_labels, k)\n",
    "        accuracy = test(model, test_data, test_labels)\n",
    "        accuracies.append(accuracy)\n",
    "    \n",
    "    return np.mean(accuracies)\n",
    "\n",
    "accs = [cross_validate(data, target, k) for k in range(1,20)]\n",
    "ks = range(1,20)"
   ]
  },
  {
   "cell_type": "code",
   "execution_count": 232,
   "metadata": {},
   "outputs": [
    {
     "data": {
      "text/plain": [
       "Text(0, 0.5, 'Accuracy')"
      ]
     },
     "execution_count": 232,
     "metadata": {},
     "output_type": "execute_result"
    },
    {
     "data": {
      "image/png": "[encoded data removed]",
      "text/plain": [
       "<Figure size 432x288 with 1 Axes>"
      ]
     },
     "metadata": {
      "needs_background": "light"
     },
     "output_type": "display_data"
    }
   ],
   "source": [
    "plt.plot(ks, accs)\n",
    "plt.xticks([1,5,10,15,20])\n",
    "plt.title('KNN accuracy by k value')\n",
    "plt.xlabel('k')\n",
    "plt.ylabel('Accuracy')"
   ]
  },
  {
   "cell_type": "markdown",
   "metadata": {},
   "source": [
    "Apparently, we get the best accuracy with K-nearest neighbor model when k=1"
   ]
  },
  {
   "cell_type": "code",
   "execution_count": 233,
   "metadata": {},
   "outputs": [
    {
     "name": "stdout",
     "output_type": "stream",
     "text": [
      "Best KNN accuracy is with k=1: 0.967170254887404\n"
     ]
    }
   ],
   "source": [
    "print('Best KNN accuracy is with k=1: {}'.format(accs[0]))"
   ]
  },
  {
   "cell_type": "markdown",
   "metadata": {},
   "source": [
    "### 3. Neural network with one hidden layer"
   ]
  },
  {
   "cell_type": "code",
   "execution_count": 234,
   "metadata": {},
   "outputs": [
    {
     "name": "stderr",
     "output_type": "stream",
     "text": [
      "/Users/serhio/anaconda3/lib/python3.7/site-packages/sklearn/neural_network/multilayer_perceptron.py:566: ConvergenceWarning: Stochastic Optimizer: Maximum iterations (200) reached and the optimization hasn't converged yet.\n",
      "  % self.max_iter, ConvergenceWarning)\n",
      "/Users/serhio/anaconda3/lib/python3.7/site-packages/sklearn/neural_network/multilayer_perceptron.py:566: ConvergenceWarning: Stochastic Optimizer: Maximum iterations (200) reached and the optimization hasn't converged yet.\n",
      "  % self.max_iter, ConvergenceWarning)\n",
      "/Users/serhio/anaconda3/lib/python3.7/site-packages/sklearn/neural_network/multilayer_perceptron.py:566: ConvergenceWarning: Stochastic Optimizer: Maximum iterations (200) reached and the optimization hasn't converged yet.\n",
      "  % self.max_iter, ConvergenceWarning)\n",
      "/Users/serhio/anaconda3/lib/python3.7/site-packages/sklearn/neural_network/multilayer_perceptron.py:566: ConvergenceWarning: Stochastic Optimizer: Maximum iterations (200) reached and the optimization hasn't converged yet.\n",
      "  % self.max_iter, ConvergenceWarning)\n",
      "/Users/serhio/anaconda3/lib/python3.7/site-packages/sklearn/neural_network/multilayer_perceptron.py:566: ConvergenceWarning: Stochastic Optimizer: Maximum iterations (200) reached and the optimization hasn't converged yet.\n",
      "  % self.max_iter, ConvergenceWarning)\n",
      "/Users/serhio/anaconda3/lib/python3.7/site-packages/sklearn/neural_network/multilayer_perceptron.py:566: ConvergenceWarning: Stochastic Optimizer: Maximum iterations (200) reached and the optimization hasn't converged yet.\n",
      "  % self.max_iter, ConvergenceWarning)\n",
      "/Users/serhio/anaconda3/lib/python3.7/site-packages/sklearn/neural_network/multilayer_perceptron.py:566: ConvergenceWarning: Stochastic Optimizer: Maximum iterations (200) reached and the optimization hasn't converged yet.\n",
      "  % self.max_iter, ConvergenceWarning)\n",
      "/Users/serhio/anaconda3/lib/python3.7/site-packages/sklearn/neural_network/multilayer_perceptron.py:566: ConvergenceWarning: Stochastic Optimizer: Maximum iterations (200) reached and the optimization hasn't converged yet.\n",
      "  % self.max_iter, ConvergenceWarning)\n",
      "/Users/serhio/anaconda3/lib/python3.7/site-packages/sklearn/neural_network/multilayer_perceptron.py:566: ConvergenceWarning: Stochastic Optimizer: Maximum iterations (200) reached and the optimization hasn't converged yet.\n",
      "  % self.max_iter, ConvergenceWarning)\n",
      "/Users/serhio/anaconda3/lib/python3.7/site-packages/sklearn/neural_network/multilayer_perceptron.py:566: ConvergenceWarning: Stochastic Optimizer: Maximum iterations (200) reached and the optimization hasn't converged yet.\n",
      "  % self.max_iter, ConvergenceWarning)\n",
      "/Users/serhio/anaconda3/lib/python3.7/site-packages/sklearn/neural_network/multilayer_perceptron.py:566: ConvergenceWarning: Stochastic Optimizer: Maximum iterations (200) reached and the optimization hasn't converged yet.\n",
      "  % self.max_iter, ConvergenceWarning)\n"
     ]
    },
    {
     "data": {
      "text/plain": [
       "[8, 16, 32, 64, 128, 256]"
      ]
     },
     "execution_count": 234,
     "metadata": {},
     "output_type": "execute_result"
    }
   ],
   "source": [
    "from sklearn.model_selection import KFold\n",
    "from sklearn.neural_network import MLPClassifier\n",
    "\n",
    "def train(data, target, n):\n",
    "    nn = MLPClassifier(hidden_layer_sizes=(n,))\n",
    "    nn.fit(data, target)\n",
    "    return nn\n",
    "\n",
    "def test(model, test_data, target):\n",
    "    predictions = model.predict(test_data)\n",
    "    accuracy = accuracy_score(target, predictions)\n",
    "    return accuracy\n",
    "    \n",
    "def cross_validate(data, taget, n):\n",
    "    kf = KFold(n_splits=4)\n",
    "    \n",
    "    accuracies = []\n",
    "    train_accuracies = [] #will be used to see if model overfits\n",
    "    rmses = []\n",
    "    \n",
    "    for train_index, test_index in kf.split(data):\n",
    "        test_data = data.iloc[test_index]\n",
    "        test_labels = target.iloc[test_index]\n",
    "        train_data = data.iloc[train_index]\n",
    "        train_labels = target.iloc[train_index]\n",
    "        \n",
    "        model = train(train_data, train_labels, n)\n",
    "        test_accuracy = test(model, test_data, test_labels)\n",
    "        train_accuracy = test(model, train_data, train_labels)\n",
    "        accuracies.append(test_accuracy)\n",
    "        train_accuracies.append(train_accuracy)\n",
    "        \n",
    "    \n",
    "    return np.mean(accuracies), np.mean(train_accuracies)\n",
    "\n",
    "n_neirons = [2**k for k in range(3, 9)]\n",
    "accs = [cross_validate(data, target, n) for n in n_neirons]\n",
    "\n",
    "test_accs = [accs[i][0] for i in range(len(accs))]\n",
    "train_accs = [accs[i][1] for i in range(len(accs))]\n",
    "\n",
    "n_neirons"
   ]
  },
  {
   "cell_type": "code",
   "execution_count": 235,
   "metadata": {},
   "outputs": [
    {
     "data": {
      "text/plain": [
       "[(0.8530598861667904, 0.9456563822451916),\n",
       " (0.9165219005196733, 0.9951773531245388),\n",
       " (0.9354342984409799, 0.9996290801186943),\n",
       " (0.9298787428854245, 1.0),\n",
       " (0.9415590200445435, 1.0),\n",
       " (0.9499146250927988, 1.0)]"
      ]
     },
     "execution_count": 235,
     "metadata": {},
     "output_type": "execute_result"
    }
   ],
   "source": [
    "accs"
   ]
  },
  {
   "cell_type": "code",
   "execution_count": 236,
   "metadata": {},
   "outputs": [
    {
     "data": {
      "text/plain": [
       "([<matplotlib.axis.XTick at 0x7fd1dfb465f8>,\n",
       "  <matplotlib.axis.XTick at 0x7fd1dfaabac8>,\n",
       "  <matplotlib.axis.XTick at 0x7fd1dfb4ee80>,\n",
       "  <matplotlib.axis.XTick at 0x7fd1df545470>,\n",
       "  <matplotlib.axis.XTick at 0x7fd1df545908>,\n",
       "  <matplotlib.axis.XTick at 0x7fd1df545e10>],\n",
       " <a list of 6 Text xticklabel objects>)"
      ]
     },
     "execution_count": 236,
     "metadata": {},
     "output_type": "execute_result"
    },
    {
     "data": {
      "image/png": "[encoded data removed]",
      "text/plain": [
       "<Figure size 432x288 with 1 Axes>"
      ]
     },
     "metadata": {
      "needs_background": "light"
     },
     "output_type": "display_data"
    }
   ],
   "source": [
    "plt.plot(n_neirons,test_accs)\n",
    "plt.plot(n_neirons,train_accs)\n",
    "plt.xticks(n_neirons)"
   ]
  },
  {
   "cell_type": "markdown",
   "metadata": {},
   "source": [
    "Although the model performs better on train data, it does not seem it has overfit, as test data performance also improves with higher number of neirons"
   ]
  },
  {
   "cell_type": "markdown",
   "metadata": {},
   "source": [
    "### 4. Neural network with two hidden layers\n",
    "Adding more neurons to a single hidden layer vastly improved the classification accuracy.\n",
    "Let's try using two hidden layers and continue to increase the number of neurons in each layer."
   ]
  },
  {
   "cell_type": "code",
   "execution_count": 237,
   "metadata": {
    "scrolled": true
   },
   "outputs": [
    {
     "name": "stderr",
     "output_type": "stream",
     "text": [
      "/Users/serhio/anaconda3/lib/python3.7/site-packages/sklearn/neural_network/multilayer_perceptron.py:566: ConvergenceWarning: Stochastic Optimizer: Maximum iterations (200) reached and the optimization hasn't converged yet.\n",
      "  % self.max_iter, ConvergenceWarning)\n",
      "/Users/serhio/anaconda3/lib/python3.7/site-packages/sklearn/neural_network/multilayer_perceptron.py:566: ConvergenceWarning: Stochastic Optimizer: Maximum iterations (200) reached and the optimization hasn't converged yet.\n",
      "  % self.max_iter, ConvergenceWarning)\n",
      "/Users/serhio/anaconda3/lib/python3.7/site-packages/sklearn/neural_network/multilayer_perceptron.py:566: ConvergenceWarning: Stochastic Optimizer: Maximum iterations (200) reached and the optimization hasn't converged yet.\n",
      "  % self.max_iter, ConvergenceWarning)\n",
      "/Users/serhio/anaconda3/lib/python3.7/site-packages/sklearn/neural_network/multilayer_perceptron.py:566: ConvergenceWarning: Stochastic Optimizer: Maximum iterations (200) reached and the optimization hasn't converged yet.\n",
      "  % self.max_iter, ConvergenceWarning)\n",
      "/Users/serhio/anaconda3/lib/python3.7/site-packages/sklearn/neural_network/multilayer_perceptron.py:566: ConvergenceWarning: Stochastic Optimizer: Maximum iterations (200) reached and the optimization hasn't converged yet.\n",
      "  % self.max_iter, ConvergenceWarning)\n",
      "/Users/serhio/anaconda3/lib/python3.7/site-packages/sklearn/neural_network/multilayer_perceptron.py:566: ConvergenceWarning: Stochastic Optimizer: Maximum iterations (200) reached and the optimization hasn't converged yet.\n",
      "  % self.max_iter, ConvergenceWarning)\n"
     ]
    }
   ],
   "source": [
    "from sklearn.model_selection import KFold\n",
    "from sklearn.neural_network import MLPClassifier\n",
    "\n",
    "def train(data, target, n):\n",
    "    nn = MLPClassifier(hidden_layer_sizes=(n,n))\n",
    "    nn.fit(data, target)\n",
    "    return nn\n",
    "\n",
    "def test(model, test_data, target):\n",
    "    predictions = model.predict(test_data)\n",
    "    accuracy = accuracy_score(target, predictions)\n",
    "    return accuracy\n",
    "    \n",
    "def cross_validate(data, taget, n):\n",
    "    kf = KFold(n_splits=6)\n",
    "    \n",
    "    accuracies = []\n",
    "    train_accuracies = [] #will be used to see if model overfits\n",
    "    rmses = []\n",
    "    \n",
    "    for train_index, test_index in kf.split(data):\n",
    "        test_data = data.iloc[test_index]\n",
    "        test_labels = target.iloc[test_index]\n",
    "        train_data = data.iloc[train_index]\n",
    "        train_labels = target.iloc[train_index]\n",
    "        \n",
    "        model = train(train_data, train_labels, n)\n",
    "        test_accuracy = test(model, test_data, test_labels)\n",
    "        train_accuracy = test(model, train_data, train_labels)\n",
    "        accuracies.append(test_accuracy)\n",
    "        train_accuracies.append(train_accuracy)  \n",
    "    \n",
    "    return np.mean(accuracies), np.mean(train_accuracies)\n",
    "\n",
    "n_neirons_2l = [8, 32, 64, 128]\n",
    "accs = [cross_validate(data, target, n) for n in n_neirons_2l]\n",
    "\n",
    "test_accs_2l = [accs[i][0] for i in range(len(accs))]\n",
    "train_accs_2l = [accs[i][1] for i in range(len(accs))]"
   ]
  },
  {
   "cell_type": "code",
   "execution_count": 238,
   "metadata": {},
   "outputs": [
    {
     "data": {
      "text/plain": [
       "[(0.8458825715347454, 0.944240951863674),\n",
       " (0.9432478632478632, 1.0),\n",
       " (0.9454793756967671, 1.0),\n",
       " (0.9538164251207729, 1.0)]"
      ]
     },
     "execution_count": 238,
     "metadata": {},
     "output_type": "execute_result"
    }
   ],
   "source": [
    "accs"
   ]
  },
  {
   "cell_type": "code",
   "execution_count": 239,
   "metadata": {},
   "outputs": [
    {
     "data": {
      "text/plain": [
       "[0.8458825715347454,\n",
       " 0.9432478632478632,\n",
       " 0.9454793756967671,\n",
       " 0.9538164251207729]"
      ]
     },
     "execution_count": 239,
     "metadata": {},
     "output_type": "execute_result"
    }
   ],
   "source": [
    "test_accs_2l"
   ]
  },
  {
   "cell_type": "markdown",
   "metadata": {},
   "source": [
    "### 5. Neural network with three hidden layers\n",
    "Using more hidden layers is known to increase the amount of overfitting that happens. To help us prevent overfitting, let's increase the number of folds we use for k-fold cross validation to 6 while testing networks with 3 hidden layers."
   ]
  },
  {
   "cell_type": "code",
   "execution_count": 240,
   "metadata": {},
   "outputs": [
    {
     "name": "stderr",
     "output_type": "stream",
     "text": [
      "/Users/serhio/anaconda3/lib/python3.7/site-packages/sklearn/neural_network/multilayer_perceptron.py:566: ConvergenceWarning: Stochastic Optimizer: Maximum iterations (200) reached and the optimization hasn't converged yet.\n",
      "  % self.max_iter, ConvergenceWarning)\n",
      "/Users/serhio/anaconda3/lib/python3.7/site-packages/sklearn/neural_network/multilayer_perceptron.py:566: ConvergenceWarning: Stochastic Optimizer: Maximum iterations (200) reached and the optimization hasn't converged yet.\n",
      "  % self.max_iter, ConvergenceWarning)\n",
      "/Users/serhio/anaconda3/lib/python3.7/site-packages/sklearn/neural_network/multilayer_perceptron.py:566: ConvergenceWarning: Stochastic Optimizer: Maximum iterations (200) reached and the optimization hasn't converged yet.\n",
      "  % self.max_iter, ConvergenceWarning)\n",
      "/Users/serhio/anaconda3/lib/python3.7/site-packages/sklearn/neural_network/multilayer_perceptron.py:566: ConvergenceWarning: Stochastic Optimizer: Maximum iterations (200) reached and the optimization hasn't converged yet.\n",
      "  % self.max_iter, ConvergenceWarning)\n",
      "/Users/serhio/anaconda3/lib/python3.7/site-packages/sklearn/neural_network/multilayer_perceptron.py:566: ConvergenceWarning: Stochastic Optimizer: Maximum iterations (200) reached and the optimization hasn't converged yet.\n",
      "  % self.max_iter, ConvergenceWarning)\n",
      "/Users/serhio/anaconda3/lib/python3.7/site-packages/sklearn/neural_network/multilayer_perceptron.py:566: ConvergenceWarning: Stochastic Optimizer: Maximum iterations (200) reached and the optimization hasn't converged yet.\n",
      "  % self.max_iter, ConvergenceWarning)\n"
     ]
    },
    {
     "data": {
      "text/plain": [
       "[8, 16, 32, 64, 128, 256]"
      ]
     },
     "execution_count": 240,
     "metadata": {},
     "output_type": "execute_result"
    }
   ],
   "source": [
    "from sklearn.model_selection import KFold\n",
    "from sklearn.neural_network import MLPClassifier\n",
    "\n",
    "def train(data, target, n):\n",
    "    nn = MLPClassifier(hidden_layer_sizes=(n,n,n))\n",
    "    nn.fit(data, target)\n",
    "    return nn\n",
    "\n",
    "def test(model, test_data, target):\n",
    "    predictions = model.predict(test_data)\n",
    "    accuracy = accuracy_score(target, predictions)\n",
    "    return accuracy\n",
    "    \n",
    "def cross_validate(data, taget, n):\n",
    "    kf = KFold(n_splits=6)\n",
    "    \n",
    "    accuracies = []\n",
    "    train_accuracies = [] #will be used to see if model overfits\n",
    "    rmses = []\n",
    "    \n",
    "    for train_index, test_index in kf.split(data):\n",
    "        test_data = data.iloc[test_index]\n",
    "        test_labels = target.iloc[test_index]\n",
    "        train_data = data.iloc[train_index]\n",
    "        train_labels = target.iloc[train_index]\n",
    "        \n",
    "        model = train(train_data, train_labels, n)\n",
    "        test_accuracy = test(model, test_data, test_labels)\n",
    "        train_accuracy = test(model, train_data, train_labels)\n",
    "        accuracies.append(test_accuracy)\n",
    "        train_accuracies.append(train_accuracy)\n",
    "        \n",
    "    \n",
    "    return np.mean(accuracies), np.mean(train_accuracies)\n",
    "\n",
    "n_neirons_3l = [8, 32, 64, 128]\n",
    "accs = [cross_validate(data, target, n) for n in n_neirons_3l]\n",
    "\n",
    "test_accs_3l = [accs[i][0] for i in range(len(accs))]\n",
    "train_accs_3l = [accs[i][1] for i in range(len(accs))]\n",
    "\n",
    "n_neirons"
   ]
  },
  {
   "cell_type": "code",
   "execution_count": 241,
   "metadata": {},
   "outputs": [
    {
     "data": {
      "text/plain": [
       "[(0.8725678186547751, 0.9794125411481619),\n",
       " (0.9337922705314011, 1.0),\n",
       " (0.9527034559643256, 1.0),\n",
       " (0.9638257153474544, 1.0)]"
      ]
     },
     "execution_count": 241,
     "metadata": {},
     "output_type": "execute_result"
    }
   ],
   "source": [
    "accs"
   ]
  },
  {
   "cell_type": "code",
   "execution_count": 242,
   "metadata": {},
   "outputs": [
    {
     "data": {
      "text/plain": [
       "<matplotlib.legend.Legend at 0x7fd1e0c279e8>"
      ]
     },
     "execution_count": 242,
     "metadata": {},
     "output_type": "execute_result"
    },
    {
     "data": {
      "image/png": "[encoded data removed]",
      "text/plain": [
       "<Figure size 432x288 with 1 Axes>"
      ]
     },
     "metadata": {
      "needs_background": "light"
     },
     "output_type": "display_data"
    }
   ],
   "source": [
    "plt.plot(n_neirons_3l, test_accs_3l, label='3 layers')\n",
    "plt.plot(n_neirons_2l, test_accs_2l, label='2 layers')\n",
    "plt.plot(n_neirons, test_accs, label='1 layer')\n",
    "plt.xlabel('Number of neirons')\n",
    "plt.ylabel('Accuracy')\n",
    "plt.legend()"
   ]
  },
  {
   "cell_type": "code",
   "execution_count": 243,
   "metadata": {},
   "outputs": [
    {
     "data": {
      "text/plain": [
       "[(0.8725678186547751, 0.9794125411481619),\n",
       " (0.9337922705314011, 1.0),\n",
       " (0.9527034559643256, 1.0),\n",
       " (0.9638257153474544, 1.0)]"
      ]
     },
     "execution_count": 243,
     "metadata": {},
     "output_type": "execute_result"
    }
   ],
   "source": [
    "accs"
   ]
  },
  {
   "cell_type": "markdown",
   "metadata": {},
   "source": [
    "### 6. Next steps\n",
    "In this guided project, we experimented with different models to classify handwritten digits. That's it for the guided steps.\n",
    "\n",
    "Here are some next steps to try:\n",
    "\n",
    "- Use the existing pipeline we've built to try other machine learning models:\n",
    "    - Decision Tree Models\n",
    "    - Random Forest Models\n",
    "- Write up a summary of the effectiveness of the different models you tried, with data to back up the conclusions.\n",
    "- Experiment with different activation functions to see if the accuracies improve.\n",
    "- Research some techniques for visualizing weights in neural network models and add a visualization step to your pipeline.\n",
    "    - [Visualization of MLP Weights on MNIST](https://scikit-learn.org/stable/auto_examples/neural_networks/plot_mnist_filters.html)\n",
    "\n",
    "Curious to see what other students have done on this project? Head over to our [Community](https://community.dataquest.io/tags/c/social/share/49/244) to check them out. While you are there, please remember to show some love and give your own feedback!"
   ]
  },
  {
   "cell_type": "code",
   "execution_count": null,
   "metadata": {},
   "outputs": [],
   "source": []
  }
 ],
 "metadata": {
  "kernelspec": {
   "display_name": "Python 3",
   "language": "python",
   "name": "python3"
  },
  "language_info": {
   "codemirror_mode": {
    "name": "ipython",
    "version": 3
   },
   "file_extension": ".py",
   "mimetype": "text/x-python",
   "name": "python",
   "nbconvert_exporter": "python",
   "pygments_lexer": "ipython3",
   "version": "3.7.3"
  }
 },
 "nbformat": 4,
 "nbformat_minor": 4
}
