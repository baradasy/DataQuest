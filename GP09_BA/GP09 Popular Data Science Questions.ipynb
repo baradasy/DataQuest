{
 "cells": [
  {
   "cell_type": "markdown",
   "metadata": {},
   "source": [
    "### Guided Project #9. Popular Data Science Questions\n",
    "Exploring Data Science Stack Exchange"
   ]
  },
  {
   "cell_type": "markdown",
   "metadata": {},
   "source": [
    "#### 1. Stack Exchange Data Explorer\n",
    "Looking at Stack Exchange Data Explorer,\n",
    "https://data.stackexchange.com/datascience/query/new\n",
    "\n",
    "The Posts table seem to have a Score field which should be a good measurement of post's popularity"
   ]
  },
  {
   "cell_type": "markdown",
   "metadata": {},
   "source": [
    "#### 2. Runing a query against the SEDE DSSE database\n",
    "\n",
    "The queary should extract the columns listed below for all the questions in 2020.\n",
    "- Id: An identification number for the post.\n",
    "- PostTypeId: An identification number for the type of post. \n",
    "    -  1 - Question\n",
    "    -  2 - Answer\n",
    "- CreationDate: The date and time of creation of the post.\n",
    "- Score: The post's score.\n",
    "- ViewCount: How many times the post was viewed.\n",
    "- Tags: What tags were used.\n",
    "- AnswerCount: How many answers the question got (only applicable to question posts).\n",
    "- FavoriteCount: How many times the question was favored (only applicable to question posts).\n",
    "\n",
    "```SQL\n",
    "SELECT Id, \n",
    "    PostTypeId, \n",
    "    CreationDate, \n",
    "    Score, \n",
    "    ViewCount, \n",
    "    Tags, \n",
    "    AnswerCount, \n",
    "    FavoriteCount\n",
    "    FROM Posts\n",
    "    WHERE CreationDate BETWEEN '20200101' AND '20201231'\n",
    "    AND PostTypeId = 1\n",
    "```\n",
    "\n",
    "The result of the queary was downloaded as 2020_Questions.csv"
   ]
  },
  {
   "cell_type": "markdown",
   "metadata": {},
   "source": [
    "#### 3. Reading the data into DataFrame\n",
    "Reading the data into pandas DF and cleaning up"
   ]
  },
  {
   "cell_type": "code",
   "execution_count": 21,
   "metadata": {},
   "outputs": [
    {
     "data": {
      "text/html": [
       "<div>\n",
       "<style scoped>\n",
       "    .dataframe tbody tr th:only-of-type {\n",
       "        vertical-align: middle;\n",
       "    }\n",
       "\n",
       "    .dataframe tbody tr th {\n",
       "        vertical-align: top;\n",
       "    }\n",
       "\n",
       "    .dataframe thead th {\n",
       "        text-align: right;\n",
       "    }\n",
       "</style>\n",
       "<table border=\"1\" class=\"dataframe\">\n",
       "  <thead>\n",
       "    <tr style=\"text-align: right;\">\n",
       "      <th></th>\n",
       "      <th>Id</th>\n",
       "      <th>PostTypeId</th>\n",
       "      <th>CreationDate</th>\n",
       "      <th>Score</th>\n",
       "      <th>ViewCount</th>\n",
       "      <th>Tags</th>\n",
       "      <th>AnswerCount</th>\n",
       "      <th>FavoriteCount</th>\n",
       "    </tr>\n",
       "  </thead>\n",
       "  <tbody>\n",
       "    <tr>\n",
       "      <th>0</th>\n",
       "      <td>66520</td>\n",
       "      <td>1</td>\n",
       "      <td>2020-01-15 13:54:37</td>\n",
       "      <td>2</td>\n",
       "      <td>91</td>\n",
       "      <td>&lt;machine-learning&gt;&lt;statistics&gt;&lt;recommender-sys...</td>\n",
       "      <td>0</td>\n",
       "      <td>1.0</td>\n",
       "    </tr>\n",
       "    <tr>\n",
       "      <th>1</th>\n",
       "      <td>66521</td>\n",
       "      <td>1</td>\n",
       "      <td>2020-01-15 14:02:33</td>\n",
       "      <td>1</td>\n",
       "      <td>190</td>\n",
       "      <td>&lt;machine-learning&gt;&lt;xgboost&gt;&lt;word-embeddings&gt;&lt;c...</td>\n",
       "      <td>3</td>\n",
       "      <td>NaN</td>\n",
       "    </tr>\n",
       "    <tr>\n",
       "      <th>2</th>\n",
       "      <td>66524</td>\n",
       "      <td>1</td>\n",
       "      <td>2020-01-15 14:55:09</td>\n",
       "      <td>9</td>\n",
       "      <td>586</td>\n",
       "      <td>&lt;machine-learning&gt;&lt;feature-selection&gt;&lt;decision...</td>\n",
       "      <td>2</td>\n",
       "      <td>2.0</td>\n",
       "    </tr>\n",
       "    <tr>\n",
       "      <th>3</th>\n",
       "      <td>66526</td>\n",
       "      <td>1</td>\n",
       "      <td>2020-01-15 16:37:47</td>\n",
       "      <td>1</td>\n",
       "      <td>22</td>\n",
       "      <td>&lt;deep-learning&gt;&lt;cnn&gt;&lt;optimization&gt;</td>\n",
       "      <td>0</td>\n",
       "      <td>NaN</td>\n",
       "    </tr>\n",
       "    <tr>\n",
       "      <th>4</th>\n",
       "      <td>66527</td>\n",
       "      <td>1</td>\n",
       "      <td>2020-01-15 17:52:45</td>\n",
       "      <td>1</td>\n",
       "      <td>33</td>\n",
       "      <td>&lt;image&gt;</td>\n",
       "      <td>1</td>\n",
       "      <td>NaN</td>\n",
       "    </tr>\n",
       "  </tbody>\n",
       "</table>\n",
       "</div>"
      ],
      "text/plain": [
       "      Id  PostTypeId        CreationDate  Score  ViewCount  \\\n",
       "0  66520           1 2020-01-15 13:54:37      2         91   \n",
       "1  66521           1 2020-01-15 14:02:33      1        190   \n",
       "2  66524           1 2020-01-15 14:55:09      9        586   \n",
       "3  66526           1 2020-01-15 16:37:47      1         22   \n",
       "4  66527           1 2020-01-15 17:52:45      1         33   \n",
       "\n",
       "                                                Tags  AnswerCount  \\\n",
       "0  <machine-learning><statistics><recommender-sys...            0   \n",
       "1  <machine-learning><xgboost><word-embeddings><c...            3   \n",
       "2  <machine-learning><feature-selection><decision...            2   \n",
       "3                 <deep-learning><cnn><optimization>            0   \n",
       "4                                            <image>            1   \n",
       "\n",
       "   FavoriteCount  \n",
       "0            1.0  \n",
       "1            NaN  \n",
       "2            2.0  \n",
       "3            NaN  \n",
       "4            NaN  "
      ]
     },
     "execution_count": 21,
     "metadata": {},
     "output_type": "execute_result"
    }
   ],
   "source": [
    "import pandas as pd\n",
    "\n",
    "questions = pd.read_csv('2020_Questions.csv', parse_dates = ['CreationDate'])\n",
    "\n",
    "questions.head()"
   ]
  },
  {
   "cell_type": "code",
   "execution_count": 22,
   "metadata": {},
   "outputs": [
    {
     "name": "stdout",
     "output_type": "stream",
     "text": [
      "(7562, 8)\n",
      "<class 'pandas.core.frame.DataFrame'>\n",
      "RangeIndex: 7562 entries, 0 to 7561\n",
      "Data columns (total 8 columns):\n",
      "Id               7562 non-null int64\n",
      "PostTypeId       7562 non-null int64\n",
      "CreationDate     7562 non-null datetime64[ns]\n",
      "Score            7562 non-null int64\n",
      "ViewCount        7562 non-null int64\n",
      "Tags             7562 non-null object\n",
      "AnswerCount      7562 non-null int64\n",
      "FavoriteCount    934 non-null float64\n",
      "dtypes: datetime64[ns](1), float64(1), int64(5), object(1)\n",
      "memory usage: 472.7+ KB\n"
     ]
    }
   ],
   "source": [
    "print(questions.shape)\n",
    "questions.info()"
   ]
  },
  {
   "cell_type": "code",
   "execution_count": 23,
   "metadata": {},
   "outputs": [
    {
     "data": {
      "text/html": [
       "<div>\n",
       "<style scoped>\n",
       "    .dataframe tbody tr th:only-of-type {\n",
       "        vertical-align: middle;\n",
       "    }\n",
       "\n",
       "    .dataframe tbody tr th {\n",
       "        vertical-align: top;\n",
       "    }\n",
       "\n",
       "    .dataframe thead th {\n",
       "        text-align: right;\n",
       "    }\n",
       "</style>\n",
       "<table border=\"1\" class=\"dataframe\">\n",
       "  <thead>\n",
       "    <tr style=\"text-align: right;\">\n",
       "      <th></th>\n",
       "      <th>Id</th>\n",
       "      <th>PostTypeId</th>\n",
       "      <th>CreationDate</th>\n",
       "      <th>Score</th>\n",
       "      <th>ViewCount</th>\n",
       "      <th>Tags</th>\n",
       "      <th>AnswerCount</th>\n",
       "      <th>FavoriteCount</th>\n",
       "    </tr>\n",
       "  </thead>\n",
       "  <tbody>\n",
       "    <tr>\n",
       "      <th>0</th>\n",
       "      <td>66520</td>\n",
       "      <td>1</td>\n",
       "      <td>2020-01-15 13:54:37</td>\n",
       "      <td>2</td>\n",
       "      <td>91</td>\n",
       "      <td>machine-learning,statistics,recommender-system</td>\n",
       "      <td>0</td>\n",
       "      <td>1</td>\n",
       "    </tr>\n",
       "    <tr>\n",
       "      <th>1</th>\n",
       "      <td>66521</td>\n",
       "      <td>1</td>\n",
       "      <td>2020-01-15 14:02:33</td>\n",
       "      <td>1</td>\n",
       "      <td>190</td>\n",
       "      <td>machine-learning,xgboost,word-embeddings,categ...</td>\n",
       "      <td>3</td>\n",
       "      <td>0</td>\n",
       "    </tr>\n",
       "    <tr>\n",
       "      <th>2</th>\n",
       "      <td>66524</td>\n",
       "      <td>1</td>\n",
       "      <td>2020-01-15 14:55:09</td>\n",
       "      <td>9</td>\n",
       "      <td>586</td>\n",
       "      <td>machine-learning,feature-selection,decision-tr...</td>\n",
       "      <td>2</td>\n",
       "      <td>2</td>\n",
       "    </tr>\n",
       "    <tr>\n",
       "      <th>3</th>\n",
       "      <td>66526</td>\n",
       "      <td>1</td>\n",
       "      <td>2020-01-15 16:37:47</td>\n",
       "      <td>1</td>\n",
       "      <td>22</td>\n",
       "      <td>deep-learning,cnn,optimization</td>\n",
       "      <td>0</td>\n",
       "      <td>0</td>\n",
       "    </tr>\n",
       "    <tr>\n",
       "      <th>4</th>\n",
       "      <td>66527</td>\n",
       "      <td>1</td>\n",
       "      <td>2020-01-15 17:52:45</td>\n",
       "      <td>1</td>\n",
       "      <td>33</td>\n",
       "      <td>image</td>\n",
       "      <td>1</td>\n",
       "      <td>0</td>\n",
       "    </tr>\n",
       "  </tbody>\n",
       "</table>\n",
       "</div>"
      ],
      "text/plain": [
       "      Id  PostTypeId        CreationDate  Score  ViewCount  \\\n",
       "0  66520           1 2020-01-15 13:54:37      2         91   \n",
       "1  66521           1 2020-01-15 14:02:33      1        190   \n",
       "2  66524           1 2020-01-15 14:55:09      9        586   \n",
       "3  66526           1 2020-01-15 16:37:47      1         22   \n",
       "4  66527           1 2020-01-15 17:52:45      1         33   \n",
       "\n",
       "                                                Tags  AnswerCount  \\\n",
       "0     machine-learning,statistics,recommender-system            0   \n",
       "1  machine-learning,xgboost,word-embeddings,categ...            3   \n",
       "2  machine-learning,feature-selection,decision-tr...            2   \n",
       "3                     deep-learning,cnn,optimization            0   \n",
       "4                                              image            1   \n",
       "\n",
       "   FavoriteCount  \n",
       "0              1  \n",
       "1              0  \n",
       "2              2  \n",
       "3              0  \n",
       "4              0  "
      ]
     },
     "execution_count": 23,
     "metadata": {},
     "output_type": "execute_result"
    }
   ],
   "source": [
    "questions.fillna(0, inplace = True)\n",
    "questions['ViewCount'] = questions['ViewCount'].astype(int)\n",
    "questions['AnswerCount'] = questions['AnswerCount'].astype(int)\n",
    "questions['FavoriteCount'] = questions['FavoriteCount'].astype(int)\n",
    "questions['Tags'] = questions['Tags'].str.replace('><',',').str.replace('<','').str.replace('>','')\n",
    "questions.head()"
   ]
  },
  {
   "cell_type": "code",
   "execution_count": 24,
   "metadata": {},
   "outputs": [
    {
     "name": "stdout",
     "output_type": "stream",
     "text": [
      "<class 'pandas.core.frame.DataFrame'>\n",
      "RangeIndex: 7562 entries, 0 to 7561\n",
      "Data columns (total 8 columns):\n",
      "Id               7562 non-null int64\n",
      "PostTypeId       7562 non-null int64\n",
      "CreationDate     7562 non-null datetime64[ns]\n",
      "Score            7562 non-null int64\n",
      "ViewCount        7562 non-null int64\n",
      "Tags             7562 non-null object\n",
      "AnswerCount      7562 non-null int64\n",
      "FavoriteCount    7562 non-null int64\n",
      "dtypes: datetime64[ns](1), int64(6), object(1)\n",
      "memory usage: 472.7+ KB\n"
     ]
    }
   ],
   "source": [
    "questions.info()"
   ]
  },
  {
   "cell_type": "markdown",
   "metadata": {},
   "source": [
    "### 4. Determining the most popular tags"
   ]
  },
  {
   "cell_type": "markdown",
   "metadata": {},
   "source": [
    "#### 4.1. How many times each tag was used"
   ]
  },
  {
   "cell_type": "code",
   "execution_count": 76,
   "metadata": {},
   "outputs": [
    {
     "data": {
      "text/html": [
       "<div>\n",
       "<style scoped>\n",
       "    .dataframe tbody tr th:only-of-type {\n",
       "        vertical-align: middle;\n",
       "    }\n",
       "\n",
       "    .dataframe tbody tr th {\n",
       "        vertical-align: top;\n",
       "    }\n",
       "\n",
       "    .dataframe thead th {\n",
       "        text-align: right;\n",
       "    }\n",
       "</style>\n",
       "<table border=\"1\" class=\"dataframe\">\n",
       "  <thead>\n",
       "    <tr style=\"text-align: right;\">\n",
       "      <th></th>\n",
       "      <th>Used</th>\n",
       "    </tr>\n",
       "  </thead>\n",
       "  <tbody>\n",
       "    <tr>\n",
       "      <th>probability</th>\n",
       "      <td>76.0</td>\n",
       "    </tr>\n",
       "    <tr>\n",
       "      <th>time-series</th>\n",
       "      <td>398.0</td>\n",
       "    </tr>\n",
       "    <tr>\n",
       "      <th>gradient-descent</th>\n",
       "      <td>130.0</td>\n",
       "    </tr>\n",
       "    <tr>\n",
       "      <th>information-retrieval</th>\n",
       "      <td>18.0</td>\n",
       "    </tr>\n",
       "    <tr>\n",
       "      <th>experiments</th>\n",
       "      <td>9.0</td>\n",
       "    </tr>\n",
       "  </tbody>\n",
       "</table>\n",
       "</div>"
      ],
      "text/plain": [
       "                        Used\n",
       "probability             76.0\n",
       "time-series            398.0\n",
       "gradient-descent       130.0\n",
       "information-retrieval   18.0\n",
       "experiments              9.0"
      ]
     },
     "execution_count": 76,
     "metadata": {},
     "output_type": "execute_result"
    }
   ],
   "source": [
    "tags_list = list(questions['Tags'].str.split(',')) # list of lists\n",
    "tags = set()\n",
    "for tags_row in tags_list:\n",
    "    tags.update(tags_row)\n",
    "    \n",
    "tags = list(tags)\n",
    "\n",
    "tags_df = pd.DataFrame(index=tags)\n",
    "\n",
    "for tag in tags:\n",
    "    mask = questions['Tags'].str.split(',').apply(lambda x: tag in x)\n",
    "    tags_df.loc[tag,'Used'] = questions[mask].shape[0]\n",
    "    \n",
    "tags_df.head()"
   ]
  },
  {
   "cell_type": "markdown",
   "metadata": {},
   "source": [
    "#### 4.2. How many times each tag was viewed"
   ]
  },
  {
   "cell_type": "code",
   "execution_count": 77,
   "metadata": {},
   "outputs": [
    {
     "data": {
      "text/html": [
       "<div>\n",
       "<style scoped>\n",
       "    .dataframe tbody tr th:only-of-type {\n",
       "        vertical-align: middle;\n",
       "    }\n",
       "\n",
       "    .dataframe tbody tr th {\n",
       "        vertical-align: top;\n",
       "    }\n",
       "\n",
       "    .dataframe thead th {\n",
       "        text-align: right;\n",
       "    }\n",
       "</style>\n",
       "<table border=\"1\" class=\"dataframe\">\n",
       "  <thead>\n",
       "    <tr style=\"text-align: right;\">\n",
       "      <th></th>\n",
       "      <th>Used</th>\n",
       "      <th>Viewed</th>\n",
       "    </tr>\n",
       "  </thead>\n",
       "  <tbody>\n",
       "    <tr>\n",
       "      <th>probability</th>\n",
       "      <td>76.0</td>\n",
       "      <td>4506.0</td>\n",
       "    </tr>\n",
       "    <tr>\n",
       "      <th>time-series</th>\n",
       "      <td>398.0</td>\n",
       "      <td>31650.0</td>\n",
       "    </tr>\n",
       "    <tr>\n",
       "      <th>gradient-descent</th>\n",
       "      <td>130.0</td>\n",
       "      <td>18142.0</td>\n",
       "    </tr>\n",
       "    <tr>\n",
       "      <th>information-retrieval</th>\n",
       "      <td>18.0</td>\n",
       "      <td>908.0</td>\n",
       "    </tr>\n",
       "    <tr>\n",
       "      <th>experiments</th>\n",
       "      <td>9.0</td>\n",
       "      <td>227.0</td>\n",
       "    </tr>\n",
       "  </tbody>\n",
       "</table>\n",
       "</div>"
      ],
      "text/plain": [
       "                        Used   Viewed\n",
       "probability             76.0   4506.0\n",
       "time-series            398.0  31650.0\n",
       "gradient-descent       130.0  18142.0\n",
       "information-retrieval   18.0    908.0\n",
       "experiments              9.0    227.0"
      ]
     },
     "execution_count": 77,
     "metadata": {},
     "output_type": "execute_result"
    }
   ],
   "source": [
    "for tag in tags:\n",
    "    mask = questions['Tags'].str.split(',').apply(lambda x: tag in x)\n",
    "    tags_df.loc[tag,'Viewed'] = questions[mask]['ViewCount'].sum()\n",
    "    \n",
    "tags_df.head()"
   ]
  },
  {
   "cell_type": "code",
   "execution_count": 78,
   "metadata": {},
   "outputs": [
    {
     "data": {
      "text/html": [
       "<div>\n",
       "<style scoped>\n",
       "    .dataframe tbody tr th:only-of-type {\n",
       "        vertical-align: middle;\n",
       "    }\n",
       "\n",
       "    .dataframe tbody tr th {\n",
       "        vertical-align: top;\n",
       "    }\n",
       "\n",
       "    .dataframe thead th {\n",
       "        text-align: right;\n",
       "    }\n",
       "</style>\n",
       "<table border=\"1\" class=\"dataframe\">\n",
       "  <thead>\n",
       "    <tr style=\"text-align: right;\">\n",
       "      <th></th>\n",
       "      <th>Used</th>\n",
       "      <th>Viewed</th>\n",
       "    </tr>\n",
       "  </thead>\n",
       "  <tbody>\n",
       "    <tr>\n",
       "      <th>probability</th>\n",
       "      <td>76</td>\n",
       "      <td>4506</td>\n",
       "    </tr>\n",
       "    <tr>\n",
       "      <th>time-series</th>\n",
       "      <td>398</td>\n",
       "      <td>31650</td>\n",
       "    </tr>\n",
       "    <tr>\n",
       "      <th>gradient-descent</th>\n",
       "      <td>130</td>\n",
       "      <td>18142</td>\n",
       "    </tr>\n",
       "    <tr>\n",
       "      <th>information-retrieval</th>\n",
       "      <td>18</td>\n",
       "      <td>908</td>\n",
       "    </tr>\n",
       "    <tr>\n",
       "      <th>experiments</th>\n",
       "      <td>9</td>\n",
       "      <td>227</td>\n",
       "    </tr>\n",
       "  </tbody>\n",
       "</table>\n",
       "</div>"
      ],
      "text/plain": [
       "                       Used  Viewed\n",
       "probability              76    4506\n",
       "time-series             398   31650\n",
       "gradient-descent        130   18142\n",
       "information-retrieval    18     908\n",
       "experiments               9     227"
      ]
     },
     "execution_count": 78,
     "metadata": {},
     "output_type": "execute_result"
    }
   ],
   "source": [
    "tags_df['Used'] = tags_df['Used'].astype(int)\n",
    "tags_df['Viewed'] = tags_df['Viewed'].astype(int)\n",
    "tags_df.head()"
   ]
  },
  {
   "cell_type": "markdown",
   "metadata": {},
   "source": [
    "#### 4.3. Top tags visualizations"
   ]
  },
  {
   "cell_type": "code",
   "execution_count": 90,
   "metadata": {},
   "outputs": [
    {
     "data": {
      "text/plain": [
       "<matplotlib.axes._subplots.AxesSubplot at 0x7f8613a2be80>"
      ]
     },
     "execution_count": 90,
     "metadata": {},
     "output_type": "execute_result"
    },
    {
     "data": {
      "image/png": "[encoded data removed]",
      "text/plain": [
       "<Figure size 432x288 with 1 Axes>"
      ]
     },
     "metadata": {
      "needs_background": "light"
     },
     "output_type": "display_data"
    }
   ],
   "source": [
    "top_used = tags_df['Used'].sort_values(ascending=False).head(10)\n",
    "top_used.sort_values().plot(kind='barh', title='Top Used Tags')"
   ]
  },
  {
   "cell_type": "code",
   "execution_count": 91,
   "metadata": {},
   "outputs": [
    {
     "data": {
      "text/plain": [
       "<matplotlib.axes._subplots.AxesSubplot at 0x7f8613b50a20>"
      ]
     },
     "execution_count": 91,
     "metadata": {},
     "output_type": "execute_result"
    },
    {
     "data": {
      "image/png": "[encoded data removed]",
      "text/plain": [
       "<Figure size 432x288 with 1 Axes>"
      ]
     },
     "metadata": {
      "needs_background": "light"
     },
     "output_type": "display_data"
    }
   ],
   "source": [
    "top_viewed = tags_df['Viewed'].sort_values(ascending=False).head(10)\n",
    "top_viewed.sort_values().plot(kind='barh', title='Top Viewed Tags')"
   ]
  },
  {
   "cell_type": "markdown",
   "metadata": {},
   "source": [
    "#### 5. Tag popularity over time\n",
    "In this chapter we will track the interest in deep learning across time. \n",
    "\n",
    "The result of the following query to SEDE downloaded as All_Questoins.csv\n",
    "```SQL \n",
    "SELECT Id, CreationDate, Tags\n",
    "  FROM posts\n",
    " WHERE PostTypeId = 1;\n",
    "```"
   ]
  },
  {
   "cell_type": "code",
   "execution_count": 97,
   "metadata": {},
   "outputs": [
    {
     "data": {
      "text/html": [
       "<div>\n",
       "<style scoped>\n",
       "    .dataframe tbody tr th:only-of-type {\n",
       "        vertical-align: middle;\n",
       "    }\n",
       "\n",
       "    .dataframe tbody tr th {\n",
       "        vertical-align: top;\n",
       "    }\n",
       "\n",
       "    .dataframe thead th {\n",
       "        text-align: right;\n",
       "    }\n",
       "</style>\n",
       "<table border=\"1\" class=\"dataframe\">\n",
       "  <thead>\n",
       "    <tr style=\"text-align: right;\">\n",
       "      <th></th>\n",
       "      <th>Id</th>\n",
       "      <th>CreationDate</th>\n",
       "      <th>Tags</th>\n",
       "    </tr>\n",
       "  </thead>\n",
       "  <tbody>\n",
       "    <tr>\n",
       "      <th>0</th>\n",
       "      <td>36401</td>\n",
       "      <td>2018-08-03 02:08:47</td>\n",
       "      <td>[neural-network, tensorflow, ensemble]</td>\n",
       "    </tr>\n",
       "    <tr>\n",
       "      <th>1</th>\n",
       "      <td>36403</td>\n",
       "      <td>2018-08-03 03:53:25</td>\n",
       "      <td>[tensorflow]</td>\n",
       "    </tr>\n",
       "    <tr>\n",
       "      <th>2</th>\n",
       "      <td>36404</td>\n",
       "      <td>2018-08-03 05:01:01</td>\n",
       "      <td>[machine-learning, feature-selection, data-sci...</td>\n",
       "    </tr>\n",
       "    <tr>\n",
       "      <th>3</th>\n",
       "      <td>36406</td>\n",
       "      <td>2018-08-03 05:36:44</td>\n",
       "      <td>[data-mining, predictive-modeling, correlation]</td>\n",
       "    </tr>\n",
       "    <tr>\n",
       "      <th>4</th>\n",
       "      <td>36407</td>\n",
       "      <td>2018-08-03 06:08:33</td>\n",
       "      <td>[keras, cnn]</td>\n",
       "    </tr>\n",
       "  </tbody>\n",
       "</table>\n",
       "</div>"
      ],
      "text/plain": [
       "      Id        CreationDate  \\\n",
       "0  36401 2018-08-03 02:08:47   \n",
       "1  36403 2018-08-03 03:53:25   \n",
       "2  36404 2018-08-03 05:01:01   \n",
       "3  36406 2018-08-03 05:36:44   \n",
       "4  36407 2018-08-03 06:08:33   \n",
       "\n",
       "                                                Tags  \n",
       "0             [neural-network, tensorflow, ensemble]  \n",
       "1                                       [tensorflow]  \n",
       "2  [machine-learning, feature-selection, data-sci...  \n",
       "3    [data-mining, predictive-modeling, correlation]  \n",
       "4                                       [keras, cnn]  "
      ]
     },
     "execution_count": 97,
     "metadata": {},
     "output_type": "execute_result"
    }
   ],
   "source": [
    "all_q = pd.read_csv('All_Questions.csv', parse_dates=['CreationDate'])\n",
    "all_q['Tags'] = all_q['Tags'].str.replace('><',',').str.replace('<','').str.replace('>','').str.split(',')\n",
    "all_q.head()"
   ]
  },
  {
   "cell_type": "code",
   "execution_count": 133,
   "metadata": {},
   "outputs": [
    {
     "data": {
      "text/html": [
       "<div>\n",
       "<style scoped>\n",
       "    .dataframe tbody tr th:only-of-type {\n",
       "        vertical-align: middle;\n",
       "    }\n",
       "\n",
       "    .dataframe tbody tr th {\n",
       "        vertical-align: top;\n",
       "    }\n",
       "\n",
       "    .dataframe thead th {\n",
       "        text-align: right;\n",
       "    }\n",
       "</style>\n",
       "<table border=\"1\" class=\"dataframe\">\n",
       "  <thead>\n",
       "    <tr style=\"text-align: right;\">\n",
       "      <th></th>\n",
       "      <th>Id</th>\n",
       "      <th>CreationDate</th>\n",
       "      <th>Tags</th>\n",
       "      <th>yearmon</th>\n",
       "      <th>DeepLearning</th>\n",
       "      <th>year</th>\n",
       "    </tr>\n",
       "  </thead>\n",
       "  <tbody>\n",
       "    <tr>\n",
       "      <th>0</th>\n",
       "      <td>36401</td>\n",
       "      <td>2018-08-03 02:08:47</td>\n",
       "      <td>[neural-network, tensorflow, ensemble]</td>\n",
       "      <td>201808</td>\n",
       "      <td>False</td>\n",
       "      <td>2018</td>\n",
       "    </tr>\n",
       "    <tr>\n",
       "      <th>1</th>\n",
       "      <td>36403</td>\n",
       "      <td>2018-08-03 03:53:25</td>\n",
       "      <td>[tensorflow]</td>\n",
       "      <td>201808</td>\n",
       "      <td>False</td>\n",
       "      <td>2018</td>\n",
       "    </tr>\n",
       "    <tr>\n",
       "      <th>2</th>\n",
       "      <td>36404</td>\n",
       "      <td>2018-08-03 05:01:01</td>\n",
       "      <td>[machine-learning, feature-selection, data-sci...</td>\n",
       "      <td>201808</td>\n",
       "      <td>False</td>\n",
       "      <td>2018</td>\n",
       "    </tr>\n",
       "    <tr>\n",
       "      <th>3</th>\n",
       "      <td>36406</td>\n",
       "      <td>2018-08-03 05:36:44</td>\n",
       "      <td>[data-mining, predictive-modeling, correlation]</td>\n",
       "      <td>201808</td>\n",
       "      <td>False</td>\n",
       "      <td>2018</td>\n",
       "    </tr>\n",
       "    <tr>\n",
       "      <th>4</th>\n",
       "      <td>36407</td>\n",
       "      <td>2018-08-03 06:08:33</td>\n",
       "      <td>[keras, cnn]</td>\n",
       "      <td>201808</td>\n",
       "      <td>False</td>\n",
       "      <td>2018</td>\n",
       "    </tr>\n",
       "  </tbody>\n",
       "</table>\n",
       "</div>"
      ],
      "text/plain": [
       "      Id        CreationDate  \\\n",
       "0  36401 2018-08-03 02:08:47   \n",
       "1  36403 2018-08-03 03:53:25   \n",
       "2  36404 2018-08-03 05:01:01   \n",
       "3  36406 2018-08-03 05:36:44   \n",
       "4  36407 2018-08-03 06:08:33   \n",
       "\n",
       "                                                Tags  yearmon  DeepLearning  \\\n",
       "0             [neural-network, tensorflow, ensemble]   201808         False   \n",
       "1                                       [tensorflow]   201808         False   \n",
       "2  [machine-learning, feature-selection, data-sci...   201808         False   \n",
       "3    [data-mining, predictive-modeling, correlation]   201808         False   \n",
       "4                                       [keras, cnn]   201808         False   \n",
       "\n",
       "   year  \n",
       "0  2018  \n",
       "1  2018  \n",
       "2  2018  \n",
       "3  2018  \n",
       "4  2018  "
      ]
     },
     "execution_count": 133,
     "metadata": {},
     "output_type": "execute_result"
    }
   ],
   "source": [
    "all_q['yearmon'] = all_q['CreationDate'].dt.year*100 + all_q['CreationDate'].dt.month\n",
    "all_q.head()"
   ]
  },
  {
   "cell_type": "code",
   "execution_count": 134,
   "metadata": {},
   "outputs": [
    {
     "data": {
      "text/html": [
       "<div>\n",
       "<style scoped>\n",
       "    .dataframe tbody tr th:only-of-type {\n",
       "        vertical-align: middle;\n",
       "    }\n",
       "\n",
       "    .dataframe tbody tr th {\n",
       "        vertical-align: top;\n",
       "    }\n",
       "\n",
       "    .dataframe thead th {\n",
       "        text-align: right;\n",
       "    }\n",
       "</style>\n",
       "<table border=\"1\" class=\"dataframe\">\n",
       "  <thead>\n",
       "    <tr style=\"text-align: right;\">\n",
       "      <th></th>\n",
       "      <th>Id</th>\n",
       "      <th>CreationDate</th>\n",
       "      <th>Tags</th>\n",
       "      <th>yearmon</th>\n",
       "      <th>DeepLearning</th>\n",
       "      <th>year</th>\n",
       "    </tr>\n",
       "  </thead>\n",
       "  <tbody>\n",
       "    <tr>\n",
       "      <th>0</th>\n",
       "      <td>36401</td>\n",
       "      <td>2018-08-03 02:08:47</td>\n",
       "      <td>[neural-network, tensorflow, ensemble]</td>\n",
       "      <td>201808</td>\n",
       "      <td>False</td>\n",
       "      <td>2018</td>\n",
       "    </tr>\n",
       "    <tr>\n",
       "      <th>1</th>\n",
       "      <td>36403</td>\n",
       "      <td>2018-08-03 03:53:25</td>\n",
       "      <td>[tensorflow]</td>\n",
       "      <td>201808</td>\n",
       "      <td>False</td>\n",
       "      <td>2018</td>\n",
       "    </tr>\n",
       "    <tr>\n",
       "      <th>2</th>\n",
       "      <td>36404</td>\n",
       "      <td>2018-08-03 05:01:01</td>\n",
       "      <td>[machine-learning, feature-selection, data-sci...</td>\n",
       "      <td>201808</td>\n",
       "      <td>False</td>\n",
       "      <td>2018</td>\n",
       "    </tr>\n",
       "    <tr>\n",
       "      <th>3</th>\n",
       "      <td>36406</td>\n",
       "      <td>2018-08-03 05:36:44</td>\n",
       "      <td>[data-mining, predictive-modeling, correlation]</td>\n",
       "      <td>201808</td>\n",
       "      <td>False</td>\n",
       "      <td>2018</td>\n",
       "    </tr>\n",
       "    <tr>\n",
       "      <th>4</th>\n",
       "      <td>36407</td>\n",
       "      <td>2018-08-03 06:08:33</td>\n",
       "      <td>[keras, cnn]</td>\n",
       "      <td>201808</td>\n",
       "      <td>False</td>\n",
       "      <td>2018</td>\n",
       "    </tr>\n",
       "  </tbody>\n",
       "</table>\n",
       "</div>"
      ],
      "text/plain": [
       "      Id        CreationDate  \\\n",
       "0  36401 2018-08-03 02:08:47   \n",
       "1  36403 2018-08-03 03:53:25   \n",
       "2  36404 2018-08-03 05:01:01   \n",
       "3  36406 2018-08-03 05:36:44   \n",
       "4  36407 2018-08-03 06:08:33   \n",
       "\n",
       "                                                Tags  yearmon  DeepLearning  \\\n",
       "0             [neural-network, tensorflow, ensemble]   201808         False   \n",
       "1                                       [tensorflow]   201808         False   \n",
       "2  [machine-learning, feature-selection, data-sci...   201808         False   \n",
       "3    [data-mining, predictive-modeling, correlation]   201808         False   \n",
       "4                                       [keras, cnn]   201808         False   \n",
       "\n",
       "   year  \n",
       "0  2018  \n",
       "1  2018  \n",
       "2  2018  \n",
       "3  2018  \n",
       "4  2018  "
      ]
     },
     "execution_count": 134,
     "metadata": {},
     "output_type": "execute_result"
    }
   ],
   "source": [
    "all_q['DeepLearning']=all_q['Tags'].apply(lambda tags: 'deep-learning' in tags)\n",
    "all_q.head()"
   ]
  },
  {
   "cell_type": "code",
   "execution_count": 135,
   "metadata": {},
   "outputs": [
    {
     "data": {
      "text/plain": [
       "yearmon\n",
       "201405    0.0\n",
       "201406    1.0\n",
       "201407    1.0\n",
       "201408    0.0\n",
       "201409    0.0\n",
       "Name: DeepLearning, dtype: float64"
      ]
     },
     "execution_count": 135,
     "metadata": {},
     "output_type": "execute_result"
    }
   ],
   "source": [
    "dl_time = all_q.groupby('yearmon').sum()['DeepLearning']\n",
    "dl_time.head()"
   ]
  },
  {
   "cell_type": "code",
   "execution_count": 136,
   "metadata": {},
   "outputs": [
    {
     "data": {
      "text/plain": [
       "<matplotlib.axes._subplots.AxesSubplot at 0x7f8617b823c8>"
      ]
     },
     "execution_count": 136,
     "metadata": {},
     "output_type": "execute_result"
    },
    {
     "data": {
      "image/png": "[encoded data removed]",
      "text/plain": [
       "<Figure size 1152x432 with 1 Axes>"
      ]
     },
     "metadata": {
      "needs_background": "light"
     },
     "output_type": "display_data"
    }
   ],
   "source": [
    "dl_time.plot(figsize=(16,6))"
   ]
  },
  {
   "cell_type": "markdown",
   "metadata": {},
   "source": [
    "#### The chart looks wierd, because yearmon is of type Integer"
   ]
  },
  {
   "cell_type": "code",
   "execution_count": 137,
   "metadata": {},
   "outputs": [
    {
     "data": {
      "text/plain": [
       "<matplotlib.axes._subplots.AxesSubplot at 0x7f8617fd1940>"
      ]
     },
     "execution_count": 137,
     "metadata": {},
     "output_type": "execute_result"
    },
    {
     "data": {
      "image/png": "[encoded data removed]",
      "text/plain": [
       "<Figure size 1152x432 with 1 Axes>"
      ]
     },
     "metadata": {
      "needs_background": "light"
     },
     "output_type": "display_data"
    }
   ],
   "source": [
    "# Let's convert it to a String and redraw\n",
    "dl_time.index = dl_time.index.astype(str)\n",
    "dl_time.plot(figsize=(16,6), title='Deep-Learning tagged questions amount over time, Monthly')"
   ]
  },
  {
   "cell_type": "code",
   "execution_count": 138,
   "metadata": {},
   "outputs": [
    {
     "data": {
      "text/plain": [
       "<matplotlib.axes._subplots.AxesSubplot at 0x7f8617ff16a0>"
      ]
     },
     "execution_count": 138,
     "metadata": {},
     "output_type": "execute_result"
    },
    {
     "data": {
      "image/png": "[encoded data removed]",
      "text/plain": [
       "<Figure size 1152x432 with 1 Axes>"
      ]
     },
     "metadata": {
      "needs_background": "light"
     },
     "output_type": "display_data"
    }
   ],
   "source": [
    "# Let's see how it looks like with year resolution as opposed to a month\n",
    "all_q['year'] = all_q['CreationDate'].dt.year\n",
    "dl_year = all_q[all_q['year']!=2021].groupby('year').sum()['DeepLearning']\n",
    "dl_year.plot(figsize=(16,6), title='Deep-Learning tagged questions amount over time, Yearly')"
   ]
  },
  {
   "cell_type": "code",
   "execution_count": 139,
   "metadata": {},
   "outputs": [
    {
     "data": {
      "text/plain": [
       "(81,)"
      ]
     },
     "execution_count": 139,
     "metadata": {},
     "output_type": "execute_result"
    }
   ],
   "source": [
    "dl_time.shape"
   ]
  }
 ],
 "metadata": {
  "kernelspec": {
   "display_name": "Python 3",
   "language": "python",
   "name": "python3"
  },
  "language_info": {
   "codemirror_mode": {
    "name": "ipython",
    "version": 3
   },
   "file_extension": ".py",
   "mimetype": "text/x-python",
   "name": "python",
   "nbconvert_exporter": "python",
   "pygments_lexer": "ipython3",
   "version": "3.7.3"
  }
 },
 "nbformat": 4,
 "nbformat_minor": 4
}
